{
 "cells": [
  {
   "cell_type": "code",
   "execution_count": 14,
   "id": "fee189de",
   "metadata": {},
   "outputs": [],
   "source": [
    "import pandas as pd\n",
    "import yfinance as yf\n",
    "import matplotlib.pyplot as plt\n",
    "from datetime import datetime"
   ]
  },
  {
   "cell_type": "code",
   "execution_count": 20,
   "id": "b80f8783",
   "metadata": {},
   "outputs": [],
   "source": [
    "def get_sp500_tickers():\n",
    "    sp500_tickers = pd.read_html('https://en.wikipedia.org/wiki/List_of_S%26P_500_companies')\n",
    "    sp500_tickers = sp500_tickers[0]\n",
    "    return sp500_tickers['Symbol'].values.tolist()"
   ]
  },
  {
   "cell_type": "code",
   "execution_count": 21,
   "id": "51ab74fd",
   "metadata": {},
   "outputs": [],
   "source": [
    "def get_stock_price(ticker, start, end, interval): # possible intervals 1d, 1wk, 1mo\n",
    "    info = yf.Ticker(ticker)\n",
    "    history = info.history(start=start, end=end, interval=interval)\n",
    "    close = history.Close\n",
    "    df = pd.DataFrame({'date': close.index, 'price': close.values})\n",
    "    return df"
   ]
  },
  {
   "cell_type": "code",
   "execution_count": 22,
   "id": "9893a170",
   "metadata": {},
   "outputs": [
    {
     "data": {
      "text/plain": [
       "list"
      ]
     },
     "execution_count": 22,
     "metadata": {},
     "output_type": "execute_result"
    }
   ],
   "source": [
    "tickers = get_sp500_tickers()\n",
    "type(tickers)"
   ]
  },
  {
   "cell_type": "code",
   "execution_count": 25,
   "id": "e7704dea",
   "metadata": {},
   "outputs": [
    {
     "data": {
      "text/plain": [
       "<matplotlib.collections.PathCollection at 0x14b16e0be80>"
      ]
     },
     "execution_count": 25,
     "metadata": {},
     "output_type": "execute_result"
    },
    {
     "data": {
      "image/png": "[encoded data removed]",
      "text/plain": [
       "<Figure size 432x288 with 1 Axes>"
      ]
     },
     "metadata": {
      "needs_background": "light"
     },
     "output_type": "display_data"
    }
   ],
   "source": [
    "start = '2012-10-16'\n",
    "end = '2022-10-16'\n",
    "interval = '1d'\n",
    "start_date = datetime.strptime(start, '%Y-%m-%d')\n",
    "end_date = datetime.strptime(end, '%Y-%m-%d')\n",
    "stock_prices = get_stock_price(tickers[0], start_date, end_date, interval)\n",
    "plt.scatter(stock_prices.date, stock_prices.price)\n"
   ]
  },
  {
   "cell_type": "code",
   "execution_count": 26,
   "id": "29775318",
   "metadata": {},
   "outputs": [
    {
     "ename": "NameError",
     "evalue": "name 'jupyter' is not defined",
     "output_type": "error",
     "traceback": [
      "\u001b[1;31m---------------------------------------------------------------------------\u001b[0m",
      "\u001b[1;31mNameError\u001b[0m                                 Traceback (most recent call last)",
      "\u001b[1;32m~\\AppData\\Local\\Temp/ipykernel_12728/1313978504.py\u001b[0m in \u001b[0;36m<module>\u001b[1;34m\u001b[0m\n\u001b[1;32m----> 1\u001b[1;33m \u001b[0mjupyter\u001b[0m \u001b[1;33m-\u001b[0m\u001b[1;33m-\u001b[0m\u001b[0mpaths\u001b[0m\u001b[1;33m\u001b[0m\u001b[1;33m\u001b[0m\u001b[0m\n\u001b[0m",
      "\u001b[1;31mNameError\u001b[0m: name 'jupyter' is not defined"
     ]
    }
   ],
   "source": [
    "jupyter --paths"
   ]
  },
  {
   "cell_type": "code",
   "execution_count": null,
   "id": "8b44e6a3",
   "metadata": {},
   "outputs": [],
   "source": []
  }
 ],
 "metadata": {
  "kernelspec": {
   "display_name": "Python 3 (ipykernel)",
   "language": "python",
   "name": "python3"
  },
  "language_info": {
   "codemirror_mode": {
    "name": "ipython",
    "version": 3
   },
   "file_extension": ".py",
   "mimetype": "text/x-python",
   "name": "python",
   "nbconvert_exporter": "python",
   "pygments_lexer": "ipython3",
   "version": "3.9.7"
  }
 },
 "nbformat": 4,
 "nbformat_minor": 5
}
